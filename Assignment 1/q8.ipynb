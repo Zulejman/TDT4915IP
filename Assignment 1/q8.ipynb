{
 "cells": [
  {
   "cell_type": "code",
   "execution_count": 1,
   "metadata": {},
   "outputs": [],
   "source": [
    "from utils import read_im, save_im\n",
    "import matplotlib.pyplot as plt\n",
    "\n",
    "im = read_im(\"images/duck.jpeg\")\n",
    "\n",
    "def greyscale(im):\n",
    "    \"\"\" Converts an RGB image to greyscale\n",
    "\n",
    "    Args:\n",
    "        im ([type]): [np.array of shape [H, W, C]]\n",
    "\n",
    "    Returns:\n",
    "        im ([type]): [np.array of shape [H, W]]\n",
    "    \"\"\"\n",
    "    # YOUR CODE HERE\n",
    "    return im\n",
    "\n",
    "im_greyscale = greyscale(im)\n",
    "\n",
    "plt.imshow(im_greyscale, cmap='gray')\n",
    "save_im(\"results/duck_greyscale.jpeg\", im_greyscale, cmap='gray')"
   ]
  }
 ],
 "metadata": {
  "kernelspec": {
   "display_name": "base",
   "language": "python",
   "name": "python3"
  },
  "language_info": {
   "codemirror_mode": {
    "name": "ipython",
    "version": 3
   },
   "file_extension": ".py",
   "mimetype": "text/x-python",
   "name": "python",
   "nbconvert_exporter": "python",
   "pygments_lexer": "ipython3",
   "version": "3.11.4"
  }
 },
 "nbformat": 4,
 "nbformat_minor": 2
}
